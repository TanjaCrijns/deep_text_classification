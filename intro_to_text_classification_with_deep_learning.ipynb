{
 "cells": [
  {
   "cell_type": "markdown",
   "metadata": {},
   "source": [
    "A Gentle Introduction to Text Classification with Deep Learning\n",
    "-------\n",
    "<br>\n",
    "<center><img src=\"https://imgs.xkcd.com/comics/machine_learning.png\" width=\"700\"/></center>"
   ]
  },
  {
   "cell_type": "markdown",
   "metadata": {},
   "source": [
    "Who am I?\n",
    "-------\n",
    "\n",
    "### Brian Spiering\n",
    "<center><img src=\"http://www.galvanizeu.com/img/brian_spiering_headshot.png\" width=\"300\"/></center>\n",
    "\n",
    "[brian.spiering@galvanize.com](mailto: brian.spiering@galvanize.com)"
   ]
  },
  {
   "cell_type": "markdown",
   "metadata": {},
   "source": [
    "What is Galvanize?\n",
    "-----\n",
    "\n",
    "<center><img src=\"http://galvanize-wp.s3.amazonaws.com/wp-content/uploads/2015/03/30170453/Galvanize-Galvanize-logomark-text-only-2-2.png\" width=\"700\"/></center>"
   ]
  },
  {
   "cell_type": "markdown",
   "metadata": {},
   "source": [
    "Audience survey \n",
    "-----\n",
    "\n",
    "1. Who has never programmed before?\n",
    "1. Who has never used Python before?\n",
    "1. Who has created a variable and wrote a function in Python before?\n",
    "1. Who has created and used a Python dictionary before? \n",
    "1. Who has used Counters before?"
   ]
  },
  {
   "cell_type": "markdown",
   "metadata": {},
   "source": [
    "Agenda\n",
    "-------\n",
    "\n",
    "1. Setup (10 minutes 🤞)\n",
    "1. A general intro to Deep Learning (10 Minutes)\n",
    "1. Demo #1 (15 Minutes)\n",
    "1. Demo #2 (15 Minutes)\n",
    "1. Questions & Answers"
   ]
  }
 ],
 "metadata": {
  "celltoolbar": "Slideshow",
  "kernelspec": {
   "display_name": "Python 3",
   "language": "python",
   "name": "python3"
  },
  "language_info": {
   "codemirror_mode": {
    "name": "ipython",
    "version": 3
   },
   "file_extension": ".py",
   "mimetype": "text/x-python",
   "name": "python",
   "nbconvert_exporter": "python",
   "pygments_lexer": "ipython3",
   "version": "3.6.0"
  }
 },
 "nbformat": 4,
 "nbformat_minor": 2
}
